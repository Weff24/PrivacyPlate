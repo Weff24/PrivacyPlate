{
  "cells": [
    {
      "cell_type": "markdown",
      "metadata": {
        "id": "view-in-github",
        "colab_type": "text"
      },
      "source": [
        "<a href=\"https://colab.research.google.com/github/Weff24/PrivacyPlate/blob/main/pp.ipynb\" target=\"_parent\"><img src=\"https://colab.research.google.com/assets/colab-badge.svg\" alt=\"Open In Colab\"/></a>"
      ]
    },
    {
      "cell_type": "markdown",
      "metadata": {
        "id": "k9rhYo3qZEyn"
      },
      "source": [
        "# 1. Data Extraction from XML Files"
      ]
    },
    {
      "cell_type": "code",
      "source": [
        "from google.colab import drive\n",
        "drive.mount('/content/drive')\n",
        "\n",
        "import xml.etree.ElementTree as ET\n",
        "import os\n",
        "import sys\n",
        "from collections import defaultdict\n",
        "\n",
        "from pathlib import Path\n",
        "from matplotlib import pyplot as plt\n",
        "from matplotlib import image as mpimg\n",
        "import matplotlib.patches as patches"
      ],
      "metadata": {
        "id": "HzkxxQ3OZF5x",
        "outputId": "c2e4061c-2a5a-4f3b-c304-6e8efedc51cf",
        "colab": {
          "base_uri": "https://localhost:8080/"
        }
      },
      "execution_count": 46,
      "outputs": [
        {
          "output_type": "stream",
          "name": "stdout",
          "text": [
            "Drive already mounted at /content/drive; to attempt to forcibly remount, call drive.mount(\"/content/drive\", force_remount=True).\n"
          ]
        }
      ]
    },
    {
      "cell_type": "markdown",
      "source": [
        "# 1. XML Data Extraction: License Plate Crop Borders"
      ],
      "metadata": {
        "id": "qE10FDYIcvJq"
      }
    },
    {
      "cell_type": "code",
      "execution_count": null,
      "metadata": {
        "id": "IzgFCSB0ZEyo"
      },
      "outputs": [],
      "source": [
        "# Path to annotation folder\n",
        "annot_dir_path = Path(\"/content/drive/MyDrive/01-License Plates/annotations\")\n",
        "\n",
        "if not annot_dir_path.exists():\n",
        "  print(\"Annotation directory path does not exist\")\n",
        "  sys.exit(1)\n",
        "\n",
        "# Extract the box from xml files\n",
        "box_locations = defaultdict(list)\n",
        "box_elements = ['xmin', 'ymin', \"xmax\", \"ymax\"] # order of the box location\n",
        "\n",
        "for path in os.listdir(annot_dir_path):\n",
        "    tree = ET.parse(f'{annot_dir_path}/{path}')  # Replace 'your_xml_file.xml' with your XML file path\n",
        "    root = tree.getroot()\n",
        "\n",
        "    # Get key from XML\n",
        "    xml_ind =int(path[4:-4])\n",
        "\n",
        "    for element in box_elements:\n",
        "      box_locations[xml_ind].append(int(root.find('object').find('bndbox').find(element).text))"
      ]
    },
    {
      "cell_type": "markdown",
      "source": [
        "# 2. License Plate Image Data Import"
      ],
      "metadata": {
        "id": "ACOycxG2eHi_"
      }
    },
    {
      "cell_type": "code",
      "source": [
        "img_dir_path = Path(\"/content/drive/MyDrive/01-License Plates/images\")\n",
        "\n",
        "if not img_dir_path.exists():\n",
        "  print(\"Image directory path does not exist\")\n",
        "  sys.exit(1)\n",
        "\n",
        "images = []\n",
        "\n",
        "i = 0\n",
        "for i, path in enumerate(os.listdir(img_dir_path)):\n",
        "  image = mpimg.imread(f\"{img_dir_path}/{path}\")\n",
        "  fig, ax = plt.subplots()\n",
        "\n",
        "  ax.imshow(image)\n",
        "\n",
        "  # Red box around to see the license plate\n",
        "  box = box_locations[int(path[4:-4])]\n",
        "  rect = patches.Rectangle((box[0], box[1]), box[2] - box[0], box[3] - box[1], linewidth=1, edgecolor='r', facecolor='none')\n",
        "  ax.add_patch(rect)\n",
        "\n",
        "  plt.show()\n",
        "\n",
        "\n",
        "  i += 1\n",
        "  if i > 5:\n",
        "    break"
      ],
      "metadata": {
        "id": "gPuYNxoIeHJz"
      },
      "execution_count": null,
      "outputs": []
    },
    {
      "cell_type": "markdown",
      "source": [
        "# 3. CNN Construction"
      ],
      "metadata": {
        "id": "RPlN_K5Pjnu6"
      }
    },
    {
      "cell_type": "code",
      "source": [
        "import torch\n",
        "import torchvision\n",
        "import torchvision.transforms as transforms"
      ],
      "metadata": {
        "id": "lW_uKf0zjzrp"
      },
      "execution_count": null,
      "outputs": []
    },
    {
      "cell_type": "code",
      "source": [
        "transform = transforms.Compose(\n",
        "    [transforms.ToTensor(),\n",
        "     transforms.Normalize((0.5, 0.5, 0.5), (0.5, 0.5, 0.5))])\n",
        "\n",
        "batch_size = 4\n",
        "\n",
        "trainset = torchvision.datasets.CIFAR10(root='./data', train=True,\n",
        "                                        download=True, transform=transform)\n",
        "trainloader = torch.utils.data.DataLoader(trainset, batch_size=batch_size,\n",
        "                                          shuffle=True, num_workers=2)\n",
        "\n",
        "testset = torchvision.datasets.CIFAR10(root='./data', train=False,\n",
        "                                       download=True, transform=transform)\n",
        "testloader = torch.utils.data.DataLoader(testset, batch_size=batch_size,\n",
        "                                         shuffle=False, num_workers=2)\n",
        "\n",
        "classes = ('plane', 'car', 'bird', 'cat',\n",
        "           'deer', 'dog', 'frog', 'horse', 'ship', 'truck')"
      ],
      "metadata": {
        "id": "nrHl0FDMkHEq"
      },
      "execution_count": null,
      "outputs": []
    }
  ],
  "metadata": {
    "language_info": {
      "name": "python"
    },
    "colab": {
      "provenance": [],
      "include_colab_link": true
    },
    "kernelspec": {
      "name": "python3",
      "display_name": "Python 3"
    }
  },
  "nbformat": 4,
  "nbformat_minor": 0
}