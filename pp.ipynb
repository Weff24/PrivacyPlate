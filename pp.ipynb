{
 "cells": [
  {
   "cell_type": "code",
   "execution_count": null,
   "metadata": {},
   "outputs": [],
   "source": [
    "import xml.etree.ElementTree as ET\n",
    "\n",
    "# NOTE: Insert the path of your XML file in the variable 'path'\n",
    "path = \"\"\n",
    "\n",
    "tree = ET.parse('your_xml_file.xml')  # Replace 'your_xml_file.xml' with your XML file path\n",
    "root = tree.getroot()"
   ]
  }
 ],
 "metadata": {
  "language_info": {
   "name": "python"
  }
 },
 "nbformat": 4,
 "nbformat_minor": 2
}
