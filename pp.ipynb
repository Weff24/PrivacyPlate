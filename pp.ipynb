{
 "cells": [
  {
   "cell_type": "markdown",
   "metadata": {},
   "source": [
    "# 1. Data Extraction from XML Files"
   ]
  },
  {
   "cell_type": "code",
   "execution_count": null,
   "metadata": {},
   "outputs": [],
   "source": [
    "import xml.etree.ElementTree as ET\n",
    "import os\n",
    "\n",
    "# NOTE: Insert the path of your XML file in the variable 'path'\n",
    "dir_path = \"\"\n",
    "\n",
    "for path in os.listdir(dir_path):\n",
    "    tree = ET.parse(f'{path}.xml')  # Replace 'your_xml_file.xml' with your XML file path\n",
    "    root = tree.getroot()"
   ]
  }
 ],
 "metadata": {
  "language_info": {
   "name": "python"
  }
 },
 "nbformat": 4,
 "nbformat_minor": 2
}
