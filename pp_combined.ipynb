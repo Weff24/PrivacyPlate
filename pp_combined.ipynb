{
  "nbformat": 4,
  "nbformat_minor": 0,
  "metadata": {
    "colab": {
      "provenance": [],
      "include_colab_link": true
    },
    "kernelspec": {
      "name": "python3",
      "display_name": "Python 3"
    },
    "language_info": {
      "name": "python"
    },
    "widgets": {
      "application/vnd.jupyter.widget-state+json": {
        "3ff9b724ff4d48999ac5748e6d46dab6": {
          "model_module": "@jupyter-widgets/controls",
          "model_name": "HBoxModel",
          "model_module_version": "1.5.0",
          "state": {
            "_dom_classes": [],
            "_model_module": "@jupyter-widgets/controls",
            "_model_module_version": "1.5.0",
            "_model_name": "HBoxModel",
            "_view_count": null,
            "_view_module": "@jupyter-widgets/controls",
            "_view_module_version": "1.5.0",
            "_view_name": "HBoxView",
            "box_style": "",
            "children": [
              "IPY_MODEL_f5ad74ecb1e340a78da4dd5a6352c615",
              "IPY_MODEL_1e9d1a494a8941979bef826f180318da",
              "IPY_MODEL_62dd6b24c13c45c9a81e37234f57f292"
            ],
            "layout": "IPY_MODEL_51715ada275840a5a3329490cd59fbce"
          }
        },
        "f5ad74ecb1e340a78da4dd5a6352c615": {
          "model_module": "@jupyter-widgets/controls",
          "model_name": "HTMLModel",
          "model_module_version": "1.5.0",
          "state": {
            "_dom_classes": [],
            "_model_module": "@jupyter-widgets/controls",
            "_model_module_version": "1.5.0",
            "_model_name": "HTMLModel",
            "_view_count": null,
            "_view_module": "@jupyter-widgets/controls",
            "_view_module_version": "1.5.0",
            "_view_name": "HTMLView",
            "description": "",
            "description_tooltip": null,
            "layout": "IPY_MODEL_d2450286985a48f0bb70e363548fddba",
            "placeholder": "​",
            "style": "IPY_MODEL_748be2a275534e77845a4e63f1fbfae2",
            "value": "config.json: 100%"
          }
        },
        "1e9d1a494a8941979bef826f180318da": {
          "model_module": "@jupyter-widgets/controls",
          "model_name": "FloatProgressModel",
          "model_module_version": "1.5.0",
          "state": {
            "_dom_classes": [],
            "_model_module": "@jupyter-widgets/controls",
            "_model_module_version": "1.5.0",
            "_model_name": "FloatProgressModel",
            "_view_count": null,
            "_view_module": "@jupyter-widgets/controls",
            "_view_module_version": "1.5.0",
            "_view_name": "ProgressView",
            "bar_style": "success",
            "description": "",
            "description_tooltip": null,
            "layout": "IPY_MODEL_f4377ea37f0f4084875a53551a699567",
            "max": 80,
            "min": 0,
            "orientation": "horizontal",
            "style": "IPY_MODEL_53328db718ad44df95e2d36eb7ecc4a4",
            "value": 80
          }
        },
        "62dd6b24c13c45c9a81e37234f57f292": {
          "model_module": "@jupyter-widgets/controls",
          "model_name": "HTMLModel",
          "model_module_version": "1.5.0",
          "state": {
            "_dom_classes": [],
            "_model_module": "@jupyter-widgets/controls",
            "_model_module_version": "1.5.0",
            "_model_name": "HTMLModel",
            "_view_count": null,
            "_view_module": "@jupyter-widgets/controls",
            "_view_module_version": "1.5.0",
            "_view_name": "HTMLView",
            "description": "",
            "description_tooltip": null,
            "layout": "IPY_MODEL_81a85c949a5d4656ac33ec5d714c237d",
            "placeholder": "​",
            "style": "IPY_MODEL_218bc92201d648068b77abd1226d72a8",
            "value": " 80.0/80.0 [00:00&lt;00:00, 1.73kB/s]"
          }
        },
        "51715ada275840a5a3329490cd59fbce": {
          "model_module": "@jupyter-widgets/base",
          "model_name": "LayoutModel",
          "model_module_version": "1.2.0",
          "state": {
            "_model_module": "@jupyter-widgets/base",
            "_model_module_version": "1.2.0",
            "_model_name": "LayoutModel",
            "_view_count": null,
            "_view_module": "@jupyter-widgets/base",
            "_view_module_version": "1.2.0",
            "_view_name": "LayoutView",
            "align_content": null,
            "align_items": null,
            "align_self": null,
            "border": null,
            "bottom": null,
            "display": null,
            "flex": null,
            "flex_flow": null,
            "grid_area": null,
            "grid_auto_columns": null,
            "grid_auto_flow": null,
            "grid_auto_rows": null,
            "grid_column": null,
            "grid_gap": null,
            "grid_row": null,
            "grid_template_areas": null,
            "grid_template_columns": null,
            "grid_template_rows": null,
            "height": null,
            "justify_content": null,
            "justify_items": null,
            "left": null,
            "margin": null,
            "max_height": null,
            "max_width": null,
            "min_height": null,
            "min_width": null,
            "object_fit": null,
            "object_position": null,
            "order": null,
            "overflow": null,
            "overflow_x": null,
            "overflow_y": null,
            "padding": null,
            "right": null,
            "top": null,
            "visibility": null,
            "width": null
          }
        },
        "d2450286985a48f0bb70e363548fddba": {
          "model_module": "@jupyter-widgets/base",
          "model_name": "LayoutModel",
          "model_module_version": "1.2.0",
          "state": {
            "_model_module": "@jupyter-widgets/base",
            "_model_module_version": "1.2.0",
            "_model_name": "LayoutModel",
            "_view_count": null,
            "_view_module": "@jupyter-widgets/base",
            "_view_module_version": "1.2.0",
            "_view_name": "LayoutView",
            "align_content": null,
            "align_items": null,
            "align_self": null,
            "border": null,
            "bottom": null,
            "display": null,
            "flex": null,
            "flex_flow": null,
            "grid_area": null,
            "grid_auto_columns": null,
            "grid_auto_flow": null,
            "grid_auto_rows": null,
            "grid_column": null,
            "grid_gap": null,
            "grid_row": null,
            "grid_template_areas": null,
            "grid_template_columns": null,
            "grid_template_rows": null,
            "height": null,
            "justify_content": null,
            "justify_items": null,
            "left": null,
            "margin": null,
            "max_height": null,
            "max_width": null,
            "min_height": null,
            "min_width": null,
            "object_fit": null,
            "object_position": null,
            "order": null,
            "overflow": null,
            "overflow_x": null,
            "overflow_y": null,
            "padding": null,
            "right": null,
            "top": null,
            "visibility": null,
            "width": null
          }
        },
        "748be2a275534e77845a4e63f1fbfae2": {
          "model_module": "@jupyter-widgets/controls",
          "model_name": "DescriptionStyleModel",
          "model_module_version": "1.5.0",
          "state": {
            "_model_module": "@jupyter-widgets/controls",
            "_model_module_version": "1.5.0",
            "_model_name": "DescriptionStyleModel",
            "_view_count": null,
            "_view_module": "@jupyter-widgets/base",
            "_view_module_version": "1.2.0",
            "_view_name": "StyleView",
            "description_width": ""
          }
        },
        "f4377ea37f0f4084875a53551a699567": {
          "model_module": "@jupyter-widgets/base",
          "model_name": "LayoutModel",
          "model_module_version": "1.2.0",
          "state": {
            "_model_module": "@jupyter-widgets/base",
            "_model_module_version": "1.2.0",
            "_model_name": "LayoutModel",
            "_view_count": null,
            "_view_module": "@jupyter-widgets/base",
            "_view_module_version": "1.2.0",
            "_view_name": "LayoutView",
            "align_content": null,
            "align_items": null,
            "align_self": null,
            "border": null,
            "bottom": null,
            "display": null,
            "flex": null,
            "flex_flow": null,
            "grid_area": null,
            "grid_auto_columns": null,
            "grid_auto_flow": null,
            "grid_auto_rows": null,
            "grid_column": null,
            "grid_gap": null,
            "grid_row": null,
            "grid_template_areas": null,
            "grid_template_columns": null,
            "grid_template_rows": null,
            "height": null,
            "justify_content": null,
            "justify_items": null,
            "left": null,
            "margin": null,
            "max_height": null,
            "max_width": null,
            "min_height": null,
            "min_width": null,
            "object_fit": null,
            "object_position": null,
            "order": null,
            "overflow": null,
            "overflow_x": null,
            "overflow_y": null,
            "padding": null,
            "right": null,
            "top": null,
            "visibility": null,
            "width": null
          }
        },
        "53328db718ad44df95e2d36eb7ecc4a4": {
          "model_module": "@jupyter-widgets/controls",
          "model_name": "ProgressStyleModel",
          "model_module_version": "1.5.0",
          "state": {
            "_model_module": "@jupyter-widgets/controls",
            "_model_module_version": "1.5.0",
            "_model_name": "ProgressStyleModel",
            "_view_count": null,
            "_view_module": "@jupyter-widgets/base",
            "_view_module_version": "1.2.0",
            "_view_name": "StyleView",
            "bar_color": null,
            "description_width": ""
          }
        },
        "81a85c949a5d4656ac33ec5d714c237d": {
          "model_module": "@jupyter-widgets/base",
          "model_name": "LayoutModel",
          "model_module_version": "1.2.0",
          "state": {
            "_model_module": "@jupyter-widgets/base",
            "_model_module_version": "1.2.0",
            "_model_name": "LayoutModel",
            "_view_count": null,
            "_view_module": "@jupyter-widgets/base",
            "_view_module_version": "1.2.0",
            "_view_name": "LayoutView",
            "align_content": null,
            "align_items": null,
            "align_self": null,
            "border": null,
            "bottom": null,
            "display": null,
            "flex": null,
            "flex_flow": null,
            "grid_area": null,
            "grid_auto_columns": null,
            "grid_auto_flow": null,
            "grid_auto_rows": null,
            "grid_column": null,
            "grid_gap": null,
            "grid_row": null,
            "grid_template_areas": null,
            "grid_template_columns": null,
            "grid_template_rows": null,
            "height": null,
            "justify_content": null,
            "justify_items": null,
            "left": null,
            "margin": null,
            "max_height": null,
            "max_width": null,
            "min_height": null,
            "min_width": null,
            "object_fit": null,
            "object_position": null,
            "order": null,
            "overflow": null,
            "overflow_x": null,
            "overflow_y": null,
            "padding": null,
            "right": null,
            "top": null,
            "visibility": null,
            "width": null
          }
        },
        "218bc92201d648068b77abd1226d72a8": {
          "model_module": "@jupyter-widgets/controls",
          "model_name": "DescriptionStyleModel",
          "model_module_version": "1.5.0",
          "state": {
            "_model_module": "@jupyter-widgets/controls",
            "_model_module_version": "1.5.0",
            "_model_name": "DescriptionStyleModel",
            "_view_count": null,
            "_view_module": "@jupyter-widgets/base",
            "_view_module_version": "1.2.0",
            "_view_name": "StyleView",
            "description_width": ""
          }
        },
        "46e239616d5a4c3fa65d1286f6f84e10": {
          "model_module": "@jupyter-widgets/controls",
          "model_name": "HBoxModel",
          "model_module_version": "1.5.0",
          "state": {
            "_dom_classes": [],
            "_model_module": "@jupyter-widgets/controls",
            "_model_module_version": "1.5.0",
            "_model_name": "HBoxModel",
            "_view_count": null,
            "_view_module": "@jupyter-widgets/controls",
            "_view_module_version": "1.5.0",
            "_view_name": "HBoxView",
            "box_style": "",
            "children": [
              "IPY_MODEL_1db680ac9134465e82f9f0cf98e88e42",
              "IPY_MODEL_bd8b4c7f1bbe41678f5d604b8bcb575d",
              "IPY_MODEL_655d0798c15f4b269f4f8dbf0e02bb3a"
            ],
            "layout": "IPY_MODEL_636a23cf5f4a4c55863225148615c3bc"
          }
        },
        "1db680ac9134465e82f9f0cf98e88e42": {
          "model_module": "@jupyter-widgets/controls",
          "model_name": "HTMLModel",
          "model_module_version": "1.5.0",
          "state": {
            "_dom_classes": [],
            "_model_module": "@jupyter-widgets/controls",
            "_model_module_version": "1.5.0",
            "_model_name": "HTMLModel",
            "_view_count": null,
            "_view_module": "@jupyter-widgets/controls",
            "_view_module_version": "1.5.0",
            "_view_name": "HTMLView",
            "description": "",
            "description_tooltip": null,
            "layout": "IPY_MODEL_dcb7524dd8b74b98bb8c55db76cdbff7",
            "placeholder": "​",
            "style": "IPY_MODEL_79a67d66205a4609ac31f9ce1c820512",
            "value": "best.pt: 100%"
          }
        },
        "bd8b4c7f1bbe41678f5d604b8bcb575d": {
          "model_module": "@jupyter-widgets/controls",
          "model_name": "FloatProgressModel",
          "model_module_version": "1.5.0",
          "state": {
            "_dom_classes": [],
            "_model_module": "@jupyter-widgets/controls",
            "_model_module_version": "1.5.0",
            "_model_name": "FloatProgressModel",
            "_view_count": null,
            "_view_module": "@jupyter-widgets/controls",
            "_view_module_version": "1.5.0",
            "_view_name": "ProgressView",
            "bar_style": "success",
            "description": "",
            "description_tooltip": null,
            "layout": "IPY_MODEL_5876e398771e466c81ae4f52b494ff14",
            "max": 42146601,
            "min": 0,
            "orientation": "horizontal",
            "style": "IPY_MODEL_995fdc76ade84895987cf5f86af12b93",
            "value": 42146601
          }
        },
        "655d0798c15f4b269f4f8dbf0e02bb3a": {
          "model_module": "@jupyter-widgets/controls",
          "model_name": "HTMLModel",
          "model_module_version": "1.5.0",
          "state": {
            "_dom_classes": [],
            "_model_module": "@jupyter-widgets/controls",
            "_model_module_version": "1.5.0",
            "_model_name": "HTMLModel",
            "_view_count": null,
            "_view_module": "@jupyter-widgets/controls",
            "_view_module_version": "1.5.0",
            "_view_name": "HTMLView",
            "description": "",
            "description_tooltip": null,
            "layout": "IPY_MODEL_42aa4902b23d4bf28c9d6d322a12e562",
            "placeholder": "​",
            "style": "IPY_MODEL_1aa452d310f34fd3bcd9aefc493df525",
            "value": " 42.1M/42.1M [00:01&lt;00:00, 47.3MB/s]"
          }
        },
        "636a23cf5f4a4c55863225148615c3bc": {
          "model_module": "@jupyter-widgets/base",
          "model_name": "LayoutModel",
          "model_module_version": "1.2.0",
          "state": {
            "_model_module": "@jupyter-widgets/base",
            "_model_module_version": "1.2.0",
            "_model_name": "LayoutModel",
            "_view_count": null,
            "_view_module": "@jupyter-widgets/base",
            "_view_module_version": "1.2.0",
            "_view_name": "LayoutView",
            "align_content": null,
            "align_items": null,
            "align_self": null,
            "border": null,
            "bottom": null,
            "display": null,
            "flex": null,
            "flex_flow": null,
            "grid_area": null,
            "grid_auto_columns": null,
            "grid_auto_flow": null,
            "grid_auto_rows": null,
            "grid_column": null,
            "grid_gap": null,
            "grid_row": null,
            "grid_template_areas": null,
            "grid_template_columns": null,
            "grid_template_rows": null,
            "height": null,
            "justify_content": null,
            "justify_items": null,
            "left": null,
            "margin": null,
            "max_height": null,
            "max_width": null,
            "min_height": null,
            "min_width": null,
            "object_fit": null,
            "object_position": null,
            "order": null,
            "overflow": null,
            "overflow_x": null,
            "overflow_y": null,
            "padding": null,
            "right": null,
            "top": null,
            "visibility": null,
            "width": null
          }
        },
        "dcb7524dd8b74b98bb8c55db76cdbff7": {
          "model_module": "@jupyter-widgets/base",
          "model_name": "LayoutModel",
          "model_module_version": "1.2.0",
          "state": {
            "_model_module": "@jupyter-widgets/base",
            "_model_module_version": "1.2.0",
            "_model_name": "LayoutModel",
            "_view_count": null,
            "_view_module": "@jupyter-widgets/base",
            "_view_module_version": "1.2.0",
            "_view_name": "LayoutView",
            "align_content": null,
            "align_items": null,
            "align_self": null,
            "border": null,
            "bottom": null,
            "display": null,
            "flex": null,
            "flex_flow": null,
            "grid_area": null,
            "grid_auto_columns": null,
            "grid_auto_flow": null,
            "grid_auto_rows": null,
            "grid_column": null,
            "grid_gap": null,
            "grid_row": null,
            "grid_template_areas": null,
            "grid_template_columns": null,
            "grid_template_rows": null,
            "height": null,
            "justify_content": null,
            "justify_items": null,
            "left": null,
            "margin": null,
            "max_height": null,
            "max_width": null,
            "min_height": null,
            "min_width": null,
            "object_fit": null,
            "object_position": null,
            "order": null,
            "overflow": null,
            "overflow_x": null,
            "overflow_y": null,
            "padding": null,
            "right": null,
            "top": null,
            "visibility": null,
            "width": null
          }
        },
        "79a67d66205a4609ac31f9ce1c820512": {
          "model_module": "@jupyter-widgets/controls",
          "model_name": "DescriptionStyleModel",
          "model_module_version": "1.5.0",
          "state": {
            "_model_module": "@jupyter-widgets/controls",
            "_model_module_version": "1.5.0",
            "_model_name": "DescriptionStyleModel",
            "_view_count": null,
            "_view_module": "@jupyter-widgets/base",
            "_view_module_version": "1.2.0",
            "_view_name": "StyleView",
            "description_width": ""
          }
        },
        "5876e398771e466c81ae4f52b494ff14": {
          "model_module": "@jupyter-widgets/base",
          "model_name": "LayoutModel",
          "model_module_version": "1.2.0",
          "state": {
            "_model_module": "@jupyter-widgets/base",
            "_model_module_version": "1.2.0",
            "_model_name": "LayoutModel",
            "_view_count": null,
            "_view_module": "@jupyter-widgets/base",
            "_view_module_version": "1.2.0",
            "_view_name": "LayoutView",
            "align_content": null,
            "align_items": null,
            "align_self": null,
            "border": null,
            "bottom": null,
            "display": null,
            "flex": null,
            "flex_flow": null,
            "grid_area": null,
            "grid_auto_columns": null,
            "grid_auto_flow": null,
            "grid_auto_rows": null,
            "grid_column": null,
            "grid_gap": null,
            "grid_row": null,
            "grid_template_areas": null,
            "grid_template_columns": null,
            "grid_template_rows": null,
            "height": null,
            "justify_content": null,
            "justify_items": null,
            "left": null,
            "margin": null,
            "max_height": null,
            "max_width": null,
            "min_height": null,
            "min_width": null,
            "object_fit": null,
            "object_position": null,
            "order": null,
            "overflow": null,
            "overflow_x": null,
            "overflow_y": null,
            "padding": null,
            "right": null,
            "top": null,
            "visibility": null,
            "width": null
          }
        },
        "995fdc76ade84895987cf5f86af12b93": {
          "model_module": "@jupyter-widgets/controls",
          "model_name": "ProgressStyleModel",
          "model_module_version": "1.5.0",
          "state": {
            "_model_module": "@jupyter-widgets/controls",
            "_model_module_version": "1.5.0",
            "_model_name": "ProgressStyleModel",
            "_view_count": null,
            "_view_module": "@jupyter-widgets/base",
            "_view_module_version": "1.2.0",
            "_view_name": "StyleView",
            "bar_color": null,
            "description_width": ""
          }
        },
        "42aa4902b23d4bf28c9d6d322a12e562": {
          "model_module": "@jupyter-widgets/base",
          "model_name": "LayoutModel",
          "model_module_version": "1.2.0",
          "state": {
            "_model_module": "@jupyter-widgets/base",
            "_model_module_version": "1.2.0",
            "_model_name": "LayoutModel",
            "_view_count": null,
            "_view_module": "@jupyter-widgets/base",
            "_view_module_version": "1.2.0",
            "_view_name": "LayoutView",
            "align_content": null,
            "align_items": null,
            "align_self": null,
            "border": null,
            "bottom": null,
            "display": null,
            "flex": null,
            "flex_flow": null,
            "grid_area": null,
            "grid_auto_columns": null,
            "grid_auto_flow": null,
            "grid_auto_rows": null,
            "grid_column": null,
            "grid_gap": null,
            "grid_row": null,
            "grid_template_areas": null,
            "grid_template_columns": null,
            "grid_template_rows": null,
            "height": null,
            "justify_content": null,
            "justify_items": null,
            "left": null,
            "margin": null,
            "max_height": null,
            "max_width": null,
            "min_height": null,
            "min_width": null,
            "object_fit": null,
            "object_position": null,
            "order": null,
            "overflow": null,
            "overflow_x": null,
            "overflow_y": null,
            "padding": null,
            "right": null,
            "top": null,
            "visibility": null,
            "width": null
          }
        },
        "1aa452d310f34fd3bcd9aefc493df525": {
          "model_module": "@jupyter-widgets/controls",
          "model_name": "DescriptionStyleModel",
          "model_module_version": "1.5.0",
          "state": {
            "_model_module": "@jupyter-widgets/controls",
            "_model_module_version": "1.5.0",
            "_model_name": "DescriptionStyleModel",
            "_view_count": null,
            "_view_module": "@jupyter-widgets/base",
            "_view_module_version": "1.2.0",
            "_view_name": "StyleView",
            "description_width": ""
          }
        }
      }
    }
  },
  "cells": [
    {
      "cell_type": "markdown",
      "metadata": {
        "id": "view-in-github",
        "colab_type": "text"
      },
      "source": [
        "<a href=\"https://colab.research.google.com/github/Weff24/PrivacyPlate/blob/main/pp_combined.ipynb\" target=\"_parent\"><img src=\"https://colab.research.google.com/assets/colab-badge.svg\" alt=\"Open In Colab\"/></a>"
      ]
    },
    {
      "cell_type": "markdown",
      "source": [
        "# 1 Notebook Setups"
      ],
      "metadata": {
        "id": "n21KBB2wp8RP"
      }
    },
    {
      "cell_type": "markdown",
      "source": [
        "## 1.1 Install Environment Requirements"
      ],
      "metadata": {
        "id": "wPHIzGs4qGAa"
      }
    },
    {
      "cell_type": "code",
      "source": [
        "!sudo apt install tesseract-ocr\n",
        "!pip install pytesseract\n",
        "!pip install -U yolov5"
      ],
      "metadata": {
        "id": "CRe2X05iqFSq"
      },
      "execution_count": null,
      "outputs": []
    },
    {
      "cell_type": "code",
      "source": [
        "import cv2\n",
        "import pytesseract\n",
        "import yolov5\n",
        "\n",
        "pytesseract.pytesseract.tesseract_cmd = ( r'/usr/bin/tesseract' )"
      ],
      "metadata": {
        "id": "LuOQsrv1rX9b"
      },
      "execution_count": 2,
      "outputs": []
    },
    {
      "cell_type": "code",
      "source": [
        "from google.colab import drive, files\n",
        "drive.mount('/content/drive')"
      ],
      "metadata": {
        "id": "Yo27XFWo62_p",
        "outputId": "ead99692-3a9f-4fe0-8bf4-a8bc034d37ea",
        "colab": {
          "base_uri": "https://localhost:8080/"
        }
      },
      "execution_count": 7,
      "outputs": [
        {
          "output_type": "stream",
          "name": "stdout",
          "text": [
            "Drive already mounted at /content/drive; to attempt to forcibly remount, call drive.mount(\"/content/drive\", force_remount=True).\n"
          ]
        }
      ]
    },
    {
      "cell_type": "code",
      "source": [
        "import xml.etree.ElementTree as ET\n",
        "import os\n",
        "import sys\n",
        "from collections import defaultdict\n",
        "\n",
        "from pathlib import Path\n",
        "from PIL import Image\n",
        "from matplotlib import pyplot as plt\n",
        "from matplotlib import image as mpimg\n",
        "import matplotlib.patches as patches\n",
        "import numpy as np\n",
        "import torch\n",
        "import torch.nn as nn\n",
        "import torch.nn.functional as F\n",
        "import torchvision.transforms as transforms"
      ],
      "metadata": {
        "id": "5pT0Vcky6_iW"
      },
      "execution_count": 8,
      "outputs": []
    },
    {
      "cell_type": "markdown",
      "source": [
        "## 1.2 Setup Methods"
      ],
      "metadata": {
        "id": "RIfOtxeaqBQt"
      }
    },
    {
      "cell_type": "code",
      "execution_count": 9,
      "metadata": {
        "id": "BRNcLsplpO6P"
      },
      "outputs": [],
      "source": [
        "### Extraction Method ###\n",
        "def extract_license_plate_text(image_path):\n",
        "    # Read the image using OpenCV\n",
        "    image = cv2.imread(image_path)\n",
        "\n",
        "    # Convert the image to grayscale\n",
        "    gray = cv2.cvtColor(image, cv2.COLOR_BGR2GRAY)\n",
        "\n",
        "    # Apply thresholding or other preprocessing techniques if needed\n",
        "    # Example: gray = cv2.threshold(gray, 0, 255, cv2.THRESH_BINARY | cv2.THRESH_OTSU)[1]\n",
        "\n",
        "    # Use Tesseract OCR to extract text\n",
        "    text = pytesseract.image_to_string(gray, config='--psm 7 --oem 1')\n",
        "\n",
        "    return text\n",
        "\n",
        "### Loading Model For Yolo ###\n",
        "def load_model_bounding():\n",
        "  model = yolov5.load('keremberke/yolov5m-license-plate')\n",
        "\n",
        "  # set model parameters\n",
        "  model.conf = 0.5  # NMS confidence threshold\n",
        "  model.iou = 0.45  # NMS IoU threshold\n",
        "  model.agnostic = False  # NMS class-agnostic\n",
        "  model.multi_label = False  # NMS multiple labels per box\n",
        "  model.max_det = 1000  # maximum number of detections per image\n",
        "\n",
        "  return model\n",
        "\n",
        "### Show Bounding Boxes Using Yolo ###\n",
        "def bounding_box_show(image_path, model):\n",
        "  # perform inference\n",
        "  results = model(image_path, size=640)\n",
        "\n",
        "  # inference with test time augmentation\n",
        "  results = model(image_path, augment=True)\n",
        "\n",
        "  # parse results\n",
        "  predictions = results.pred[0]\n",
        "  boxes = predictions[:, :4] # x1, y1, x2, y2\n",
        "  scores = predictions[:, 4]\n",
        "  categories = predictions[:, 5]\n",
        "\n",
        "  # show detection bounding boxes on image\n",
        "  results.show()"
      ]
    },
    {
      "cell_type": "markdown",
      "source": [
        "# 2. Image Blurring"
      ],
      "metadata": {
        "id": "nkpd_VqZqwVn"
      }
    },
    {
      "cell_type": "code",
      "source": [
        "# Round up to nearest odd integer for Gaussian Blur kernel size\n",
        "def to_nearest_odd(n):\n",
        "    if n % 2 == 0:\n",
        "        return n + 1\n",
        "    return n"
      ],
      "metadata": {
        "id": "GVfnBMV59Gjh"
      },
      "execution_count": 10,
      "outputs": []
    },
    {
      "cell_type": "code",
      "source": [
        "# Path to annotation folder\n",
        "annot_dir_path = Path(\"/content/drive/MyDrive/01-License Plates/annotations\")\n",
        "\n",
        "if not annot_dir_path.exists():\n",
        "  print(\"Annotation directory path does not exist\")\n",
        "  sys.exit(1)\n",
        "\n",
        "# Extract the box from xml files\n",
        "box_locations = defaultdict(list)\n",
        "box_sizes = defaultdict(list)\n",
        "box_elements = ['xmin', 'ymin', \"xmax\", \"ymax\"] # order of the box location\n",
        "box_size_elements = ['width', 'height'] # order of image size\n",
        "\n",
        "for path in os.listdir(annot_dir_path):\n",
        "    tree = ET.parse(f'{annot_dir_path}/{path}')  # Replace 'your_xml_file.xml' with your XML file path\n",
        "    root = tree.getroot()\n",
        "\n",
        "    # Get key from XML\n",
        "    xml_ind =int(path[4:-4])\n",
        "\n",
        "    for element in box_elements:\n",
        "        box_locations[xml_ind].append(int(root.find('object').find('bndbox').find(element).text))\n",
        "\n",
        "    for element in box_size_elements:\n",
        "        box_sizes[xml_ind].append(int(root.find('size').find(element).text))\n",
        "\n",
        "# Check dimensions of images\n",
        "max_w = 0\n",
        "max_h = 0\n",
        "for w, h in box_sizes.values():\n",
        "    if max_w < w:\n",
        "        max_w = w\n",
        "    if max_h < h:\n",
        "        max_h = h\n",
        "\n",
        "print('Max Width = ', max_w)\n",
        "print('Max Height = ', max_h)"
      ],
      "metadata": {
        "id": "3gvgRmdyqvY4",
        "outputId": "18ad8987-0adc-4676-b71c-fae79113f1ba",
        "colab": {
          "base_uri": "https://localhost:8080/"
        }
      },
      "execution_count": 11,
      "outputs": [
        {
          "output_type": "stream",
          "name": "stdout",
          "text": [
            "Max Width =  600\n",
            "Max Height =  531\n"
          ]
        }
      ]
    },
    {
      "cell_type": "code",
      "source": [
        "%matplotlib inline\n",
        "\n",
        "img_dir_path = Path(\"/content/drive/MyDrive/01-License Plates/paddedimages\")\n",
        "\n",
        "if not img_dir_path.exists():\n",
        "  print(\"Image directory path does not exist\")\n",
        "  sys.exit(1)\n",
        "\n",
        "cropped_plate_images = []\n",
        "plate_images = []\n",
        "\n",
        "i = 0\n",
        "for i, path in enumerate(os.listdir(img_dir_path)):\n",
        "  plate_image = mpimg.imread(f\"{img_dir_path}/{path}\")\n",
        "  fig, ax = plt.subplots()\n",
        "\n",
        "  box = box_locations[int(path[4:-4])]\n",
        "  cropped_plate_image = plate_image[box[1]:box[3], box[0]:box[2]]\n",
        "\n",
        "  ax.imshow(cropped_plate_image)\n",
        "#   plt.axis(\"off\")\n",
        "#   plt.savefig(\"/content/drive/MyDrive/01-License Plates/croppedimages/CroppedCar.png\")\n",
        "  plt.show()\n",
        "\n",
        "  plate_images.append((plate_image, box))\n",
        "  cropped_plate_images.append((cropped_plate_image, box))\n",
        "\n",
        "  i += 1\n",
        "  if i == 1:\n",
        "    break\n",
        "\n",
        "plt.close()"
      ],
      "metadata": {
        "id": "4-qJQvMJ8PBq",
        "outputId": "4523c598-46bd-4d04-a5ce-46f75f96544f",
        "colab": {
          "base_uri": "https://localhost:8080/",
          "height": 189
        }
      },
      "execution_count": 12,
      "outputs": [
        {
          "output_type": "display_data",
          "data": {
            "text/plain": [
              "<Figure size 640x480 with 1 Axes>"
            ],
            "image/png": "[encoded data removed]"
          },
          "metadata": {}
        }
      ]
    },
    {
      "cell_type": "code",
      "source": [
        "final_images = [0] * (3 * len(plate_images))\n",
        "num_blur_levels = 10\n",
        "\n",
        "for i in range(len(cropped_plate_images)):\n",
        "    for blur_level in range(0, num_blur_levels):\n",
        "        # Blur plate image\n",
        "        cropped_plate_image = cropped_plate_images[i][0]\n",
        "        cropped_plate_image_tensor = torch.from_numpy(cropped_plate_image)\n",
        "\n",
        "        kernel_size = [5, to_nearest_odd((cropped_plate_image_tensor.size()[1] - cropped_plate_image_tensor.size()[1] * (blur_level) // (num_blur_levels - 1)) // 3)]\n",
        "        sigma = 10\n",
        "        blurred_plate_image = transforms.functional.gaussian_blur(cropped_plate_image_tensor, kernel_size, sigma).numpy()\n",
        "\n",
        "        # Save cropped and blurred image\n",
        "        fig, ax = plt.subplots()\n",
        "        plt.axis(\"off\")\n",
        "        ax.imshow(blurred_plate_image)\n",
        "        plt.savefig(f\"/content/drive/MyDrive/01-License Plates/croppedimages/CroppedCar{blur_level}.png\")\n",
        "\n",
        "        # Place blurred plate back into full image\n",
        "        box = plate_images[i][1]\n",
        "        final_image = plate_images[i][0].copy()\n",
        "        final_image[box[1]:box[3], box[0]:box[2]] = blurred_plate_image\n",
        "        final_images[i] = final_image\n",
        "\n",
        "        # Show final blurred images\n",
        "        # fig, ax = plt.subplots()\n",
        "        # plt.axis(\"off\")\n",
        "        # ax.imshow(final_image)\n",
        "\n",
        "        # plt.savefig(f\"/content/drive/MyDrive/01-License Plates/croppedimages/CroppedCar{blur_level}.png\")"
      ],
      "metadata": {
        "id": "0my_DNt79ECV",
        "outputId": "135191a8-6ef0-4af3-fd4a-4a47c372cf60",
        "colab": {
          "base_uri": "https://localhost:8080/",
          "height": 1000
        }
      },
      "execution_count": 16,
      "outputs": [
        {
          "output_type": "display_data",
          "data": {
            "text/plain": [
              "<Figure size 640x480 with 1 Axes>"
            ],
            "image/png": "[encoded data removed]"
          },
          "metadata": {}
        },
        {
          "output_type": "display_data",
          "data": {
            "text/plain": [
              "<Figure size 640x480 with 1 Axes>"
            ],
            "image/png": "[encoded data removed]"
          },
          "metadata": {}
        },
        {
          "output_type": "display_data",
          "data": {
            "text/plain": [
              "<Figure size 640x480 with 1 Axes>"
            ],
            "image/png": "[encoded data removed]"
          },
          "metadata": {}
        },
        {
          "output_type": "display_data",
          "data": {
            "text/plain": [
              "<Figure size 640x480 with 1 Axes>"
            ],
            "image/png": "[encoded data removed]"
          },
          "metadata": {}
        },
        {
          "output_type": "display_data",
          "data": {
            "text/plain": [
              "<Figure size 640x480 with 1 Axes>"
            ],
            "image/png": "[encoded data removed]"
          },
          "metadata": {}
        },
        {
          "output_type": "display_data",
          "data": {
            "text/plain": [
              "<Figure size 640x480 with 1 Axes>"
            ],
            "image/png": "[encoded data removed]"
          },
          "metadata": {}
        },
        {
          "output_type": "display_data",
          "data": {
            "text/plain": [
              "<Figure size 640x480 with 1 Axes>"
            ],
            "image/png": "[encoded data removed]"
          },
          "metadata": {}
        },
        {
          "output_type": "display_data",
          "data": {
            "text/plain": [
              "<Figure size 640x480 with 1 Axes>"
            ],
            "image/png": "[encoded data removed]"
          },
          "metadata": {}
        },
        {
          "output_type": "display_data",
          "data": {
            "text/plain": [
              "<Figure size 640x480 with 1 Axes>"
            ],
            "image/png": "[encoded data removed]"
          },
          "metadata": {}
        },
        {
          "output_type": "display_data",
          "data": {
            "text/plain": [
              "<Figure size 640x480 with 1 Axes>"
            ],
            "image/png": "[encoded data removed]"
          },
          "metadata": {}
        }
      ]
    },
    {
      "cell_type": "markdown",
      "source": [
        "# 3. Pipeline Evaluation"
      ],
      "metadata": {
        "id": "QLolanHBqyUd"
      }
    },
    {
      "cell_type": "code",
      "source": [
        "bounding_box_model = load_model_bounding()\n",
        "\n",
        "for blur_level in reversed(range(0, num_blur_levels)):\n",
        "    img_path = f\"/content/drive/MyDrive/01-License Plates/croppedimages/CroppedCar{blur_level}.png\"\n",
        "    extracted_text = extract_license_plate_text(img_path)\n",
        "\n",
        "    # 1. Extracted text first\n",
        "    if len(extracted_text) != 0:\n",
        "        print(f\"Extracted text from - {img_path}: {extracted_text}\")\n",
        "        continue\n",
        "\n",
        "    # 2. Run YOLO model to show bounding box if the extracted text is empty\n",
        "    bounding_box_show(img_path, bounding_box_model)"
      ],
      "metadata": {
        "id": "1Flkl38D_DhM",
        "outputId": "2b093843-cf31-456a-9111-ce25ea1e8600",
        "colab": {
          "base_uri": "https://localhost:8080/"
        }
      },
      "execution_count": 21,
      "outputs": [
        {
          "output_type": "stream",
          "name": "stdout",
          "text": [
            "Extracted text from - /content/drive/MyDrive/01-License Plates/croppedimages/CroppedCar9.png: EPGeMN112]\n",
            "\f\n",
            "Extracted text from - /content/drive/MyDrive/01-License Plates/croppedimages/CroppedCar8.png: pPosam112\n",
            "\f\n",
            "Extracted text from - /content/drive/MyDrive/01-License Plates/croppedimages/CroppedCar7.png: pom\n",
            "\f\n",
            "Extracted text from - /content/drive/MyDrive/01-License Plates/croppedimages/CroppedCar6.png: \f\n",
            "Extracted text from - /content/drive/MyDrive/01-License Plates/croppedimages/CroppedCar5.png: a\n",
            "\f\n",
            "Extracted text from - /content/drive/MyDrive/01-License Plates/croppedimages/CroppedCar4.png: ae\n",
            "\f\n",
            "Extracted text from - /content/drive/MyDrive/01-License Plates/croppedimages/CroppedCar3.png: aa 2\n",
            "\f\n",
            "Extracted text from - /content/drive/MyDrive/01-License Plates/croppedimages/CroppedCar2.png: as\n",
            "\f\n",
            "Extracted text from - /content/drive/MyDrive/01-License Plates/croppedimages/CroppedCar1.png: a2\n",
            "\f\n",
            "Extracted text from - /content/drive/MyDrive/01-License Plates/croppedimages/CroppedCar0.png: ES\n",
            "\f\n"
          ]
        }
      ]
    },
    {
      "cell_type": "code",
      "source": [
        "bounding_box_model = load_model_bounding()\n",
        "\n",
        "while True:\n",
        "    # 1. Ask for user input of the image path\n",
        "    img_path = input(\"Please enter your desired image (q to quit)\")\n",
        "    if img_path == \"q\":\n",
        "        print(\"Exiting...\")\n",
        "        break\n",
        "\n",
        "    extracted_text = extract_license_plate_text(img_path)\n",
        "\n",
        "    # 1. Extracted text first\n",
        "    if len(extracted_text) != 0:\n",
        "        print(f\"Extracted text from - {img_path}: {extracted_text}\")\n",
        "        continue\n",
        "\n",
        "    # 2. Run YOLO model to show bounding box if the extracted text is empty\n",
        "    bounding_box_show(img_path, bounding_box_model)\n",
        "\n"
      ],
      "metadata": {
        "colab": {
          "base_uri": "https://localhost:8080/",
          "height": 493,
          "referenced_widgets": [
            "3ff9b724ff4d48999ac5748e6d46dab6",
            "f5ad74ecb1e340a78da4dd5a6352c615",
            "1e9d1a494a8941979bef826f180318da",
            "62dd6b24c13c45c9a81e37234f57f292",
            "51715ada275840a5a3329490cd59fbce",
            "d2450286985a48f0bb70e363548fddba",
            "748be2a275534e77845a4e63f1fbfae2",
            "f4377ea37f0f4084875a53551a699567",
            "53328db718ad44df95e2d36eb7ecc4a4",
            "81a85c949a5d4656ac33ec5d714c237d",
            "218bc92201d648068b77abd1226d72a8",
            "46e239616d5a4c3fa65d1286f6f84e10",
            "1db680ac9134465e82f9f0cf98e88e42",
            "bd8b4c7f1bbe41678f5d604b8bcb575d",
            "655d0798c15f4b269f4f8dbf0e02bb3a",
            "636a23cf5f4a4c55863225148615c3bc",
            "dcb7524dd8b74b98bb8c55db76cdbff7",
            "79a67d66205a4609ac31f9ce1c820512",
            "5876e398771e466c81ae4f52b494ff14",
            "995fdc76ade84895987cf5f86af12b93",
            "42aa4902b23d4bf28c9d6d322a12e562",
            "1aa452d310f34fd3bcd9aefc493df525"
          ]
        },
        "id": "VQm21UZFq2JZ",
        "outputId": "147e59e8-16f9-4d77-ee86-fac7064d1734"
      },
      "execution_count": 4,
      "outputs": [
        {
          "output_type": "display_data",
          "data": {
            "text/plain": [
              "config.json:   0%|          | 0.00/80.0 [00:00<?, ?B/s]"
            ],
            "application/vnd.jupyter.widget-view+json": {
              "version_major": 2,
              "version_minor": 0,
              "model_id": "3ff9b724ff4d48999ac5748e6d46dab6"
            }
          },
          "metadata": {}
        },
        {
          "output_type": "display_data",
          "data": {
            "text/plain": [
              "best.pt:   0%|          | 0.00/42.1M [00:00<?, ?B/s]"
            ],
            "application/vnd.jupyter.widget-view+json": {
              "version_major": 2,
              "version_minor": 0,
              "model_id": "46e239616d5a4c3fa65d1286f6f84e10"
            }
          },
          "metadata": {}
        },
        {
          "output_type": "error",
          "ename": "KeyboardInterrupt",
          "evalue": "ignored",
          "traceback": [
            "\u001b[0;31m---------------------------------------------------------------------------\u001b[0m",
            "\u001b[0;31mKeyboardInterrupt\u001b[0m                         Traceback (most recent call last)",
            "\u001b[0;32m<ipython-input-4-91ae685e5d8d>\u001b[0m in \u001b[0;36m<cell line: 3>\u001b[0;34m()\u001b[0m\n\u001b[1;32m      3\u001b[0m \u001b[0;32mwhile\u001b[0m \u001b[0;32mTrue\u001b[0m\u001b[0;34m:\u001b[0m\u001b[0;34m\u001b[0m\u001b[0;34m\u001b[0m\u001b[0m\n\u001b[1;32m      4\u001b[0m   \u001b[0;31m# 1. Ask for user input of the image path\u001b[0m\u001b[0;34m\u001b[0m\u001b[0;34m\u001b[0m\u001b[0m\n\u001b[0;32m----> 5\u001b[0;31m   \u001b[0mimg_path\u001b[0m \u001b[0;34m=\u001b[0m \u001b[0minput\u001b[0m\u001b[0;34m(\u001b[0m\u001b[0;34m\"Please enter your desired image (q to quit)\"\u001b[0m\u001b[0;34m)\u001b[0m\u001b[0;34m\u001b[0m\u001b[0;34m\u001b[0m\u001b[0m\n\u001b[0m\u001b[1;32m      6\u001b[0m   \u001b[0;32mif\u001b[0m \u001b[0mimg_path\u001b[0m \u001b[0;34m==\u001b[0m \u001b[0;34m\"q\"\u001b[0m\u001b[0;34m:\u001b[0m\u001b[0;34m\u001b[0m\u001b[0;34m\u001b[0m\u001b[0m\n\u001b[1;32m      7\u001b[0m     \u001b[0mprint\u001b[0m\u001b[0;34m(\u001b[0m\u001b[0;34m\"Exiting...\"\u001b[0m\u001b[0;34m)\u001b[0m\u001b[0;34m\u001b[0m\u001b[0;34m\u001b[0m\u001b[0m\n",
            "\u001b[0;32m/usr/local/lib/python3.10/dist-packages/ipykernel/kernelbase.py\u001b[0m in \u001b[0;36mraw_input\u001b[0;34m(self, prompt)\u001b[0m\n\u001b[1;32m    849\u001b[0m                 \u001b[0;34m\"raw_input was called, but this frontend does not support input requests.\"\u001b[0m\u001b[0;34m\u001b[0m\u001b[0;34m\u001b[0m\u001b[0m\n\u001b[1;32m    850\u001b[0m             )\n\u001b[0;32m--> 851\u001b[0;31m         return self._input_request(str(prompt),\n\u001b[0m\u001b[1;32m    852\u001b[0m             \u001b[0mself\u001b[0m\u001b[0;34m.\u001b[0m\u001b[0m_parent_ident\u001b[0m\u001b[0;34m,\u001b[0m\u001b[0;34m\u001b[0m\u001b[0;34m\u001b[0m\u001b[0m\n\u001b[1;32m    853\u001b[0m             \u001b[0mself\u001b[0m\u001b[0;34m.\u001b[0m\u001b[0m_parent_header\u001b[0m\u001b[0;34m,\u001b[0m\u001b[0;34m\u001b[0m\u001b[0;34m\u001b[0m\u001b[0m\n",
            "\u001b[0;32m/usr/local/lib/python3.10/dist-packages/ipykernel/kernelbase.py\u001b[0m in \u001b[0;36m_input_request\u001b[0;34m(self, prompt, ident, parent, password)\u001b[0m\n\u001b[1;32m    893\u001b[0m             \u001b[0;32mexcept\u001b[0m \u001b[0mKeyboardInterrupt\u001b[0m\u001b[0;34m:\u001b[0m\u001b[0;34m\u001b[0m\u001b[0;34m\u001b[0m\u001b[0m\n\u001b[1;32m    894\u001b[0m                 \u001b[0;31m# re-raise KeyboardInterrupt, to truncate traceback\u001b[0m\u001b[0;34m\u001b[0m\u001b[0;34m\u001b[0m\u001b[0m\n\u001b[0;32m--> 895\u001b[0;31m                 \u001b[0;32mraise\u001b[0m \u001b[0mKeyboardInterrupt\u001b[0m\u001b[0;34m(\u001b[0m\u001b[0;34m\"Interrupted by user\"\u001b[0m\u001b[0;34m)\u001b[0m \u001b[0;32mfrom\u001b[0m \u001b[0;32mNone\u001b[0m\u001b[0;34m\u001b[0m\u001b[0;34m\u001b[0m\u001b[0m\n\u001b[0m\u001b[1;32m    896\u001b[0m             \u001b[0;32mexcept\u001b[0m \u001b[0mException\u001b[0m \u001b[0;32mas\u001b[0m \u001b[0me\u001b[0m\u001b[0;34m:\u001b[0m\u001b[0;34m\u001b[0m\u001b[0;34m\u001b[0m\u001b[0m\n\u001b[1;32m    897\u001b[0m                 \u001b[0mself\u001b[0m\u001b[0;34m.\u001b[0m\u001b[0mlog\u001b[0m\u001b[0;34m.\u001b[0m\u001b[0mwarning\u001b[0m\u001b[0;34m(\u001b[0m\u001b[0;34m\"Invalid Message:\"\u001b[0m\u001b[0;34m,\u001b[0m \u001b[0mexc_info\u001b[0m\u001b[0;34m=\u001b[0m\u001b[0;32mTrue\u001b[0m\u001b[0;34m)\u001b[0m\u001b[0;34m\u001b[0m\u001b[0;34m\u001b[0m\u001b[0m\n",
            "\u001b[0;31mKeyboardInterrupt\u001b[0m: Interrupted by user"
          ]
        }
      ]
    },
    {
      "cell_type": "code",
      "source": [],
      "metadata": {
        "id": "VXiyC3St6caJ"
      },
      "execution_count": null,
      "outputs": []
    }
  ]
}